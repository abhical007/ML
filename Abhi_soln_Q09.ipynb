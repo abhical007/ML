{
 "cells": [
  {
   "cell_type": "code",
   "execution_count": 6,
   "id": "c59c68cd",
   "metadata": {},
   "outputs": [
    {
     "data": {
      "text/html": [
       "<div>\n",
       "<style scoped>\n",
       "    .dataframe tbody tr th:only-of-type {\n",
       "        vertical-align: middle;\n",
       "    }\n",
       "\n",
       "    .dataframe tbody tr th {\n",
       "        vertical-align: top;\n",
       "    }\n",
       "\n",
       "    .dataframe thead th {\n",
       "        text-align: right;\n",
       "    }\n",
       "</style>\n",
       "<table border=\"1\" class=\"dataframe\">\n",
       "  <thead>\n",
       "    <tr style=\"text-align: right;\">\n",
       "      <th></th>\n",
       "      <th>Month</th>\n",
       "      <th>Machine Hours</th>\n",
       "      <th>Production Runs</th>\n",
       "      <th>Overhead Cost</th>\n",
       "    </tr>\n",
       "  </thead>\n",
       "  <tbody>\n",
       "    <tr>\n",
       "      <th>0</th>\n",
       "      <td>1</td>\n",
       "      <td>1539</td>\n",
       "      <td>31</td>\n",
       "      <td>99798</td>\n",
       "    </tr>\n",
       "    <tr>\n",
       "      <th>1</th>\n",
       "      <td>2</td>\n",
       "      <td>1284</td>\n",
       "      <td>29</td>\n",
       "      <td>87804</td>\n",
       "    </tr>\n",
       "    <tr>\n",
       "      <th>2</th>\n",
       "      <td>3</td>\n",
       "      <td>1490</td>\n",
       "      <td>27</td>\n",
       "      <td>93681</td>\n",
       "    </tr>\n",
       "    <tr>\n",
       "      <th>3</th>\n",
       "      <td>4</td>\n",
       "      <td>1355</td>\n",
       "      <td>22</td>\n",
       "      <td>82262</td>\n",
       "    </tr>\n",
       "    <tr>\n",
       "      <th>4</th>\n",
       "      <td>5</td>\n",
       "      <td>1500</td>\n",
       "      <td>35</td>\n",
       "      <td>106968</td>\n",
       "    </tr>\n",
       "    <tr>\n",
       "      <th>5</th>\n",
       "      <td>6</td>\n",
       "      <td>1777</td>\n",
       "      <td>30</td>\n",
       "      <td>107925</td>\n",
       "    </tr>\n",
       "    <tr>\n",
       "      <th>6</th>\n",
       "      <td>7</td>\n",
       "      <td>1716</td>\n",
       "      <td>41</td>\n",
       "      <td>117287</td>\n",
       "    </tr>\n",
       "    <tr>\n",
       "      <th>7</th>\n",
       "      <td>8</td>\n",
       "      <td>1045</td>\n",
       "      <td>29</td>\n",
       "      <td>76868</td>\n",
       "    </tr>\n",
       "    <tr>\n",
       "      <th>8</th>\n",
       "      <td>9</td>\n",
       "      <td>1364</td>\n",
       "      <td>47</td>\n",
       "      <td>106001</td>\n",
       "    </tr>\n",
       "    <tr>\n",
       "      <th>9</th>\n",
       "      <td>10</td>\n",
       "      <td>1516</td>\n",
       "      <td>21</td>\n",
       "      <td>88738</td>\n",
       "    </tr>\n",
       "  </tbody>\n",
       "</table>\n",
       "</div>"
      ],
      "text/plain": [
       "   Month  Machine Hours  Production Runs  Overhead Cost\n",
       "0      1           1539               31          99798\n",
       "1      2           1284               29          87804\n",
       "2      3           1490               27          93681\n",
       "3      4           1355               22          82262\n",
       "4      5           1500               35         106968\n",
       "5      6           1777               30         107925\n",
       "6      7           1716               41         117287\n",
       "7      8           1045               29          76868\n",
       "8      9           1364               47         106001\n",
       "9     10           1516               21          88738"
      ]
     },
     "execution_count": 6,
     "metadata": {},
     "output_type": "execute_result"
    }
   ],
   "source": [
    "# required libraries\n",
    "import numpy as np\n",
    "import statsmodels.api as sm\n",
    "import matplotlib.pyplot as plt     # creating plots\n",
    "import pandas as pd                 # loading data\n",
    "from mpl_toolkits import mplot3d\n",
    "import seaborn as sbn  \n",
    "\n",
    "# Read the data - note that this is a csv file.\n",
    "overhead_df = pd.read_csv('MLR_Q09_FactoryOverhead.csv')\n",
    "overhead_df.head(10)"
   ]
  },
  {
   "cell_type": "code",
   "execution_count": 9,
   "id": "ea397d37",
   "metadata": {},
   "outputs": [
    {
     "data": {
      "image/png": "[encoded data removed]",
      "text/plain": [
       "<Figure size 432x288 with 1 Axes>"
      ]
     },
     "metadata": {
      "needs_background": "light"
     },
     "output_type": "display_data"
    }
   ],
   "source": [
    "# Visualize the data in 3D\n",
    "fig = plt.figure()\n",
    "ax = plt.axes(projection='3d')\n",
    "\n",
    "x1 = overhead_df[\"Machine Hours\"]\n",
    "x2 = overhead_df[\"Production Runs\"]\n",
    "y = overhead_df[\"Overhead Cost\"]\n",
    "\n",
    "ax.scatter3D(x1,x2, c=y);"
   ]
  },
  {
   "cell_type": "code",
   "execution_count": 13,
   "id": "73bb1200",
   "metadata": {},
   "outputs": [
    {
     "name": "stdout",
     "output_type": "stream",
     "text": [
      "                            OLS Regression Results                            \n",
      "==============================================================================\n",
      "Dep. Variable:          Overhead Cost   R-squared:                       0.399\n",
      "Model:                            OLS   Adj. R-squared:                  0.382\n",
      "Method:                 Least Squares   F-statistic:                     22.60\n",
      "Date:                Sun, 05 Jun 2022   Prob (F-statistic):           3.57e-05\n",
      "Time:                        07:57:03   Log-Likelihood:                -376.13\n",
      "No. Observations:                  36   AIC:                             756.3\n",
      "Df Residuals:                      34   BIC:                             759.4\n",
      "Df Model:                           1                                         \n",
      "Covariance Type:            nonrobust                                         \n",
      "=================================================================================\n",
      "                    coef    std err          t      P>|t|      [0.025      0.975]\n",
      "---------------------------------------------------------------------------------\n",
      "const          4.862e+04   1.07e+04      4.533      0.000    2.68e+04    7.04e+04\n",
      "Machine Hours    34.7022      7.300      4.754      0.000      19.867      49.537\n",
      "==============================================================================\n",
      "Omnibus:                        0.251   Durbin-Watson:                   2.451\n",
      "Prob(Omnibus):                  0.882   Jarque-Bera (JB):                0.140\n",
      "Skew:                           0.141   Prob(JB):                        0.933\n",
      "Kurtosis:                       2.886   Cond. No.                     1.10e+04\n",
      "==============================================================================\n",
      "\n",
      "Notes:\n",
      "[1] Standard Errors assume that the covariance matrix of the errors is correctly specified.\n",
      "[2] The condition number is large, 1.1e+04. This might indicate that there are\n",
      "strong multicollinearity or other numerical problems.\n"
     ]
    }
   ],
   "source": [
    "# Train the linear regression model: Overhead = F (machine hours)\n",
    "\n",
    "Y = overhead_df[\"Overhead Cost\"]\n",
    "\n",
    "X = overhead_df[['Machine Hours']]\n",
    "X = sm.add_constant(X) # adding a constant\n",
    "\n",
    "reg_model = sm.OLS(Y,X).fit()\n",
    "\n",
    "# View the model parameters\n",
    "print(reg_model.summary())"
   ]
  },
  {
   "cell_type": "markdown",
   "id": "331204ad",
   "metadata": {},
   "source": [
    "# Observation:\n",
    "\n",
    "F-test: P(F-statistic) = 3.57e-05 => model is significant overall  \n",
    "\n",
    "Coefficient: \n",
    "Machine Hours: Probability of t-statistic, P(t) = 0.000 <0.05 *=> Machine hours is a significant parameter at 95% CI*\n",
    "\n",
    "R-Squared: \n",
    "The R-Squared value in 0.399. This implies than only 39.9% variation in the Overhead Cost is explained by variation in the  Machine Hours alone. \n",
    "\n",
    "Regression Equation:\n",
    "Overhead Cost = 4.862e+04 + 34.7022* Machine Hours"
   ]
  },
  {
   "cell_type": "code",
   "execution_count": 12,
   "id": "72b91e99",
   "metadata": {
    "scrolled": true
   },
   "outputs": [
    {
     "name": "stdout",
     "output_type": "stream",
     "text": [
      "                            OLS Regression Results                            \n",
      "==============================================================================\n",
      "Dep. Variable:          Overhead Cost   R-squared:                       0.271\n",
      "Model:                            OLS   Adj. R-squared:                  0.250\n",
      "Method:                 Least Squares   F-statistic:                     12.64\n",
      "Date:                Sun, 05 Jun 2022   Prob (F-statistic):            0.00114\n",
      "Time:                        07:56:51   Log-Likelihood:                -379.62\n",
      "No. Observations:                  36   AIC:                             763.2\n",
      "Df Residuals:                      34   BIC:                             766.4\n",
      "Df Model:                           1                                         \n",
      "Covariance Type:            nonrobust                                         \n",
      "===================================================================================\n",
      "                      coef    std err          t      P>|t|      [0.025      0.975]\n",
      "-----------------------------------------------------------------------------------\n",
      "const            7.561e+04   6808.611     11.104      0.000    6.18e+04    8.94e+04\n",
      "Production Runs   655.0707    184.275      3.555      0.001     280.579    1029.562\n",
      "==============================================================================\n",
      "Omnibus:                        0.597   Durbin-Watson:                   2.090\n",
      "Prob(Omnibus):                  0.742   Jarque-Bera (JB):                0.683\n",
      "Skew:                          -0.264   Prob(JB):                        0.711\n",
      "Kurtosis:                       2.580   Cond. No.                         160.\n",
      "==============================================================================\n",
      "\n",
      "Notes:\n",
      "[1] Standard Errors assume that the covariance matrix of the errors is correctly specified.\n"
     ]
    }
   ],
   "source": [
    "# Train the linear regression model: Overhead = F (production runs)\n",
    "\n",
    "Y = overhead_df[\"Overhead Cost\"]\n",
    "\n",
    "X = overhead_df[['Production Runs']]\n",
    "X = sm.add_constant(X) # adding a constant\n",
    "\n",
    "reg_model = sm.OLS(Y,X).fit()\n",
    "\n",
    "# View the model parameters\n",
    "print(reg_model.summary())"
   ]
  },
  {
   "cell_type": "markdown",
   "id": "2fbaa126",
   "metadata": {},
   "source": [
    "# Observation:\n",
    "F-test: P(F-statistic) = 0.00114 <0.05 => model is significant overall\n",
    "\n",
    "Coefficient: \n",
    "Production Runs: Probability of t-statistic, P(t) = 0.001 <0.05 => Production Runs is a significant parameter at 95% CI\n",
    "\n",
    "R-Squared: \n",
    "The R-Squared value in 0.271. This implies than only 27.1% variation in the Overhead Cost is explained by variation in the  Production Runs alone. \n",
    "\n",
    "Regression Equation: \n",
    "Overhead Cost = 7.561e+04 + 655.0707* Production Runs"
   ]
  },
  {
   "cell_type": "code",
   "execution_count": 14,
   "id": "f756085c",
   "metadata": {},
   "outputs": [
    {
     "name": "stdout",
     "output_type": "stream",
     "text": [
      "                            OLS Regression Results                            \n",
      "==============================================================================\n",
      "Dep. Variable:          Overhead Cost   R-squared:                       0.866\n",
      "Model:                            OLS   Adj. R-squared:                  0.858\n",
      "Method:                 Least Squares   F-statistic:                     107.0\n",
      "Date:                Sun, 05 Jun 2022   Prob (F-statistic):           3.75e-15\n",
      "Time:                        07:59:52   Log-Likelihood:                -349.07\n",
      "No. Observations:                  36   AIC:                             704.1\n",
      "Df Residuals:                      33   BIC:                             708.9\n",
      "Df Model:                           2                                         \n",
      "Covariance Type:            nonrobust                                         \n",
      "===================================================================================\n",
      "                      coef    std err          t      P>|t|      [0.025      0.975]\n",
      "-----------------------------------------------------------------------------------\n",
      "const            3996.6782   6603.651      0.605      0.549   -9438.551    1.74e+04\n",
      "Machine Hours      43.5364      3.589     12.129      0.000      36.234      50.839\n",
      "Production Runs   883.6179     82.251     10.743      0.000     716.276    1050.960\n",
      "==============================================================================\n",
      "Omnibus:                        3.142   Durbin-Watson:                   1.313\n",
      "Prob(Omnibus):                  0.208   Jarque-Bera (JB):                2.259\n",
      "Skew:                          -0.609   Prob(JB):                        0.323\n",
      "Kurtosis:                       3.155   Cond. No.                     1.42e+04\n",
      "==============================================================================\n",
      "\n",
      "Notes:\n",
      "[1] Standard Errors assume that the covariance matrix of the errors is correctly specified.\n",
      "[2] The condition number is large, 1.42e+04. This might indicate that there are\n",
      "strong multicollinearity or other numerical problems.\n"
     ]
    }
   ],
   "source": [
    "# Train the linear regression model: Overhead = F (machine hours, production runs) \n",
    "\n",
    "Y = overhead_df[\"Overhead Cost\"]\n",
    "\n",
    "X = overhead_df[['Machine Hours','Production Runs']]\n",
    "X = sm.add_constant(X) # adding a constant\n",
    "\n",
    "reg_model = sm.OLS(Y,X).fit()\n",
    "\n",
    "# View the model parameters\n",
    "print(reg_model.summary())"
   ]
  },
  {
   "cell_type": "markdown",
   "id": "9b215595",
   "metadata": {},
   "source": [
    "Observation:\n",
    "F-test: P(F-statistic) = 3.75e-15 <0.05 => model is significant overall\n",
    "\n",
    "Coefficient: \n",
    "Machine Hours: Probability of t-statistic, P(t) = 0.000 <0.05 => Production Runs is a significant parameter at 95% CI\n",
    "Production Runs: Probability of t-statistic, P(t) = 0.000 <0.05 => Production Runs is a significant parameter at 95% CI\n",
    "\n",
    "R-Squared: \n",
    "The R-Squared value in 0.866. This implies than 86.6% variation in the Overhead Cost is explained by variation in the Machine Hours and Production Runs.\n",
    "\n",
    "Regression Equation: \n",
    "Overhead Cost = 7.561e+04 + 43.5364* Machine Hours + 655.0707* Production Runs\n"
   ]
  },
  {
   "cell_type": "code",
   "execution_count": null,
   "id": "2d8bf996",
   "metadata": {},
   "outputs": [],
   "source": [
    "\n"
   ]
  }
 ],
 "metadata": {
  "kernelspec": {
   "display_name": "Python 3 (ipykernel)",
   "language": "python",
   "name": "python3"
  },
  "language_info": {
   "codemirror_mode": {
    "name": "ipython",
    "version": 3
   },
   "file_extension": ".py",
   "mimetype": "text/x-python",
   "name": "python",
   "nbconvert_exporter": "python",
   "pygments_lexer": "ipython3",
   "version": "3.9.12"
  }
 },
 "nbformat": 4,
 "nbformat_minor": 5
}
